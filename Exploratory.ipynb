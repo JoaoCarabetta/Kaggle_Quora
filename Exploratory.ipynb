{
 "cells": [
  {
   "cell_type": "code",
   "execution_count": 54,
   "metadata": {
    "collapsed": false
   },
   "outputs": [],
   "source": [
    "import numpy\n",
    "import pandas\n",
    "import nltk\n",
    "from nltk.corpus import stopwords\n",
    "import string\n",
    "from nltk.stem.snowball import SnowballStemmer\n",
    "import warnings\n",
    "import math\n",
    "import matplotlib.pyplot as plt"
   ]
  },
  {
   "cell_type": "code",
   "execution_count": 28,
   "metadata": {
    "collapsed": false
   },
   "outputs": [
    {
     "name": "stdout",
     "output_type": "stream",
     "text": [
      "[nltk_data] Downloading package stopwords to\n",
      "[nltk_data]     /Users/chenwang/nltk_data...\n",
      "[nltk_data]   Package stopwords is already up-to-date!\n"
     ]
    },
    {
     "data": {
      "text/plain": [
       "True"
      ]
     },
     "execution_count": 28,
     "metadata": {},
     "output_type": "execute_result"
    }
   ],
   "source": [
    "nltk.download(\"stopwords\")\n"
   ]
  },
  {
   "cell_type": "code",
   "execution_count": 29,
   "metadata": {
    "collapsed": false
   },
   "outputs": [],
   "source": [
    "quora_train = pandas.read_csv(\"data/train.csv\")"
   ]
  },
  {
   "cell_type": "code",
   "execution_count": 30,
   "metadata": {
    "collapsed": false
   },
   "outputs": [
    {
     "name": "stdout",
     "output_type": "stream",
     "text": [
      "<class 'pandas.core.frame.DataFrame'>\n",
      "   id  qid1  qid2                                          question1  \\\n",
      "0   0     1     2  What is the step by step guide to invest in sh...   \n",
      "1   1     3     4  What is the story of Kohinoor (Koh-i-Noor) Dia...   \n",
      "2   2     5     6  How can I increase the speed of my internet co...   \n",
      "3   3     7     8  Why am I mentally very lonely? How can I solve...   \n",
      "4   4     9    10  Which one dissolve in water quikly sugar, salt...   \n",
      "\n",
      "                                           question2  is_duplicate  \n",
      "0  What is the step by step guide to invest in sh...             0  \n",
      "1  What would happen if the Indian government sto...             0  \n",
      "2  How can Internet speed be increased by hacking...             0  \n",
      "3  Find the remainder when [math]23^{24}[/math] i...             0  \n",
      "4            Which fish would survive in salt water?             0  \n"
     ]
    }
   ],
   "source": [
    "print (type(quora_train))\n",
    "print(quora_train.head())\n",
    "\n"
   ]
  },
  {
   "cell_type": "code",
   "execution_count": 47,
   "metadata": {
    "collapsed": false
   },
   "outputs": [
    {
     "data": {
      "text/plain": [
       "'step step guid invest share market india'"
      ]
     },
     "execution_count": 47,
     "metadata": {},
     "output_type": "execute_result"
    }
   ],
   "source": [
    "# Editing questions with NLTK package\n",
    "\n",
    "def stem_stopwords_punctuation_case (phrase):\n",
    "    \"\"\"\n",
    "    Receives a phrase and returns the same phrase stemmed, lowercase phrase without stopwords\n",
    "    :param package_name: String. A phrase.\n",
    "    :return: String. Stemmed, lowercase phrase without stopwords\n",
    "    \"\"\"\n",
    "\n",
    "    stemmer = SnowballStemmer(\"english\")\n",
    "    stopwords = nltk.corpus.stopwords.words('english')\n",
    "    translator = str.maketrans('', '', string.punctuation)\n",
    "    \n",
    "    if type(phrase) is float:\n",
    "        if math.isnan(phrase):\n",
    "            return (\"\")\n",
    "    \n",
    "    phrase = phrase.translate(translator) #removing punctuation\n",
    "    phrase = phrase.lower() #removing word case\n",
    "    \n",
    "    stemmed = []\n",
    "    words = phrase.split(\" \")\n",
    "    for word in words:\n",
    "        if word not in stopwords:\n",
    "            stemmed.append(stemmer.stem(word))\n",
    "    \n",
    "    stemmed = ' '.join(stemmed)\n",
    "    return stemmed\n",
    "\n",
    "\n",
    "stem_stopwords_punctuation_case(\n",
    "    \"What is the step by step guide to invest in share market in india?\")\n",
    "\n"
   ]
  },
  {
   "cell_type": "code",
   "execution_count": 32,
   "metadata": {
    "collapsed": false
   },
   "outputs": [],
   "source": [
    "#quora_train = quora_train.head() #Only for test. Should be removed later\n",
    "\n",
    "#This is causing warning to appear, should be fixed.\n",
    "quora_train[\"question1_edited\"] = quora_train[\"question1\"].apply(lambda x: stem_stopwords_punctuation_case(x))"
   ]
  },
  {
   "cell_type": "code",
   "execution_count": 48,
   "metadata": {
    "collapsed": false
   },
   "outputs": [],
   "source": [
    "quora_train[\"question2_edited\"] = quora_train[\"question2\"].apply(lambda x: stem_stopwords_punctuation_case(x))"
   ]
  },
  {
   "cell_type": "code",
   "execution_count": 49,
   "metadata": {
    "collapsed": false
   },
   "outputs": [
    {
     "name": "stdout",
     "output_type": "stream",
     "text": [
      "   id  qid1  qid2                                          question1  \\\n",
      "0   0     1     2  What is the step by step guide to invest in sh...   \n",
      "1   1     3     4  What is the story of Kohinoor (Koh-i-Noor) Dia...   \n",
      "2   2     5     6  How can I increase the speed of my internet co...   \n",
      "3   3     7     8  Why am I mentally very lonely? How can I solve...   \n",
      "4   4     9    10  Which one dissolve in water quikly sugar, salt...   \n",
      "\n",
      "                                           question2  is_duplicate  \\\n",
      "0  What is the step by step guide to invest in sh...             0   \n",
      "1  What would happen if the Indian government sto...             0   \n",
      "2  How can Internet speed be increased by hacking...             0   \n",
      "3  Find the remainder when [math]23^{24}[/math] i...             0   \n",
      "4            Which fish would survive in salt water?             0   \n",
      "\n",
      "                                    question1_edited  \\\n",
      "0           step step guid invest share market india   \n",
      "1                    stori kohinoor kohinoor diamond   \n",
      "2             increas speed internet connect use vpn   \n",
      "3                                   mental lone solv   \n",
      "4  one dissolv water quik sugar salt methan carbo...   \n",
      "\n",
      "                                    question2_edited  \n",
      "0                 step step guid invest share market  \n",
      "1  would happen indian govern stole kohinoor kohi...  \n",
      "2                    internet speed increas hack dns  \n",
      "3               find remaind math2324math divid 2423  \n",
      "4                       fish would surviv salt water  \n"
     ]
    }
   ],
   "source": [
    "print (quora_train.head())"
   ]
  },
  {
   "cell_type": "code",
   "execution_count": 52,
   "metadata": {
    "collapsed": false
   },
   "outputs": [
    {
     "name": "stdout",
     "output_type": "stream",
     "text": [
      "   id  qid1  qid2                                          question1  \\\n",
      "0   0     1     2  What is the step by step guide to invest in sh...   \n",
      "1   1     3     4  What is the story of Kohinoor (Koh-i-Noor) Dia...   \n",
      "2   2     5     6  How can I increase the speed of my internet co...   \n",
      "3   3     7     8  Why am I mentally very lonely? How can I solve...   \n",
      "4   4     9    10  Which one dissolve in water quikly sugar, salt...   \n",
      "\n",
      "                                           question2  is_duplicate  \\\n",
      "0  What is the step by step guide to invest in sh...             0   \n",
      "1  What would happen if the Indian government sto...             0   \n",
      "2  How can Internet speed be increased by hacking...             0   \n",
      "3  Find the remainder when [math]23^{24}[/math] i...             0   \n",
      "4            Which fish would survive in salt water?             0   \n",
      "\n",
      "                                    question1_edited  \\\n",
      "0           step step guid invest share market india   \n",
      "1                    stori kohinoor kohinoor diamond   \n",
      "2             increas speed internet connect use vpn   \n",
      "3                                   mental lone solv   \n",
      "4  one dissolv water quik sugar salt methan carbo...   \n",
      "\n",
      "                                    question2_edited  num_words_common  \\\n",
      "0                 step step guid invest share market                 6   \n",
      "1  would happen indian govern stole kohinoor kohi...                 3   \n",
      "2                    internet speed increas hack dns                 3   \n",
      "3               find remaind math2324math divid 2423                 0   \n",
      "4                       fish would surviv salt water                 2   \n",
      "\n",
      "   num_words_total  common_percentage  \n",
      "0                7           0.857143  \n",
      "1                4           0.750000  \n",
      "2                6           0.500000  \n",
      "3                3           0.000000  \n",
      "4               10           0.200000  \n"
     ]
    }
   ],
   "source": [
    "def calculate_common_percentage(df):\n",
    "    \"\"\"\n",
    "    Receives the initial data frame and adds  the colunms \"num_words_common\", \"num_words_total\" and \"common_percentage\"\n",
    "    :param package_name: Data frame train.csv from the Kaggle website\n",
    "    :return: Data frame with added colunms \"num_words_common\", \"num_words_total\" and \"common_percentage\"\n",
    "    \"\"\"\n",
    "\n",
    "    num_words_common = []\n",
    "    num_words_total = []\n",
    "\n",
    "    for line in range(0,len(df)):\n",
    "        count_total = 0\n",
    "        count_common = 0\n",
    "        for word in df[\"question1_edited\"][line].split(\" \"):\n",
    "            if word in df[\"question2_edited\"][line]:\n",
    "                count_common = count_common+1\n",
    "            count_total = count_total+1\n",
    "        num_words_common.append(count_common) \n",
    "        num_words_total.append(count_total)\n",
    "\n",
    "    num_words_common = pandas.Series(num_words_common)\n",
    "    num_words_total = pandas.Series(num_words_total)\n",
    "\n",
    "    df[\"num_words_common\"] = num_words_common.values\n",
    "    df[\"num_words_total\"] = num_words_total.values\n",
    "    df[\"common_percentage\"] = df[\"num_words_common\"]/df[\"num_words_total\"]\n",
    "\n",
    "    return (df)\n",
    "\n",
    "quora_train = calculate_common_percentage(quora_train)\n",
    "\n",
    "print (quora_train.head())"
   ]
  },
  {
   "cell_type": "code",
   "execution_count": null,
   "metadata": {
    "collapsed": false,
    "scrolled": true
   },
   "outputs": [],
   "source": []
  },
  {
   "cell_type": "code",
   "execution_count": 70,
   "metadata": {
    "collapsed": false
   },
   "outputs": [
    {
     "data": {
      "text/plain": [
       "<matplotlib.figure.Figure at 0x12a7a80b8>"
      ]
     },
     "metadata": {},
     "output_type": "display_data"
    },
    {
     "data": {
      "image/png": "[encoded data removed]",
      "text/plain": [
       "<matplotlib.figure.Figure at 0x12a79c2b0>"
      ]
     },
     "metadata": {},
     "output_type": "display_data"
    }
   ],
   "source": [
    "#\"num_words_common\", \"num_words_total\" and \"common_percentage\"\n",
    "\n",
    "plt.figure()\n",
    "#plt.boxplot(quora_train[\"common_percentage\"],quora_train[\"is_duplicate\"])\n",
    "\n",
    "\n",
    "quora_train.boxplot(column='common_percentage', by='is_duplicate')\n",
    "plt.suptitle('')\n",
    "\n",
    "axes = plt.gca()\n",
    "axes.set_ylim([-0.2,1.1])\n",
    "plt.title(\"Common word percentage and is_duplicate\")\n",
    "\n",
    "plt.show()"
   ]
  }
 ],
 "metadata": {
  "anaconda-cloud": {},
  "kernelspec": {
   "display_name": "Python [conda root]",
   "language": "python",
   "name": "conda-root-py"
  },
  "language_info": {
   "codemirror_mode": {
    "name": "ipython",
    "version": 3
   },
   "file_extension": ".py",
   "mimetype": "text/x-python",
   "name": "python",
   "nbconvert_exporter": "python",
   "pygments_lexer": "ipython3",
   "version": "3.5.2"
  }
 },
 "nbformat": 4,
 "nbformat_minor": 1
}
